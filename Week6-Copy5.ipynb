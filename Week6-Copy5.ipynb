{
 "cells": [
  {
   "cell_type": "code",
   "execution_count": 1,
   "id": "85f92d09",
   "metadata": {},
   "outputs": [],
   "source": [
    "import numpy as np\n",
    "import math\n",
    "import scipy\n",
    "import matplotlib.pyplot as plt\n",
    "from sklearn.gaussian_process import GaussianProcessRegressor\n",
    "from sklearn.gaussian_process.kernels import RBF\n",
    "import matplotlib.pyplot as plt\n",
    "from sklearn.gaussian_process.kernels import ConstantKernel, RBF\n",
    "from scipy.stats import qmc"
   ]
  },
  {
   "cell_type": "code",
   "execution_count": 2,
   "id": "1ddbdb48",
   "metadata": {},
   "outputs": [],
   "source": [
    "import fusionrate\n",
    "from fusionrate import Reaction"
   ]
  },
  {
   "cell_type": "code",
   "execution_count": 3,
   "id": "d0768e5a",
   "metadata": {},
   "outputs": [],
   "source": [
    "C_SCALE = 1e-16"
   ]
  },
  {
   "cell_type": "code",
   "execution_count": 4,
   "id": "2c49ebe0",
   "metadata": {},
   "outputs": [],
   "source": [
    "def generate_profile(rho, x0, alpha_x):\n",
    "    \"\"\"This function generates radial based parabolic profiles \n",
    "    for densities / temperatures , 0<rho<1\n",
    "    \n",
    "    args\n",
    "    ----------\n",
    "    - rho (array-like): radial position\n",
    "    - n0 (float): denisity at rho =0 \n",
    "    - alpha_x (int): exponential values 1-3 \n",
    "    \n",
    "    returns\n",
    "    ----------\n",
    "    - profile (array-like): an array of radial based profiles (temp or density)\n",
    "    \n",
    "    \"\"\"\n",
    "    profile = x0 * ((1 - (rho**2))**alpha_x)\n",
    "    \n",
    "    return profile "
   ]
  },
  {
   "cell_type": "code",
   "execution_count": 5,
   "id": "60c9008d",
   "metadata": {},
   "outputs": [],
   "source": [
    "def volume_averaged_density(densities, volumes):\n",
    "    \"\"\"This function finds the volume averaged density \n",
    "    \n",
    "    Parms:\n",
    "        - densisties (array-like): an array of densities of each partition\n",
    "        - volumes (array-like): an array of volumes of each parition\n",
    "        \n",
    "    Returns:\n",
    "        - vol_avg_density (float): density averaged over the whole volume\n",
    "    \"\"\"\n",
    "\n",
    "    \n",
    "    vol_avg_density = (np.sum(np.multiply(densities,volumes)))/(np.sum(volumes))\n",
    "    \n",
    "    return vol_avg_density"
   ]
  },
  {
   "cell_type": "code",
   "execution_count": 6,
   "id": "220044d2",
   "metadata": {},
   "outputs": [],
   "source": [
    "def volume_averaged_temperature(densities, volumes, temperatures):\n",
    "    \"\"\"This function finds the volume averaged temperature \n",
    "    \n",
    "    Params: \n",
    "        - densities(array-like): an array of densities of each partition\n",
    "        - volumes(array-like): an array of volumes of each parition\n",
    "        - temperature(array-like): an array of temperatures of each partition \n",
    "\n",
    "    Returns: \n",
    "        - vol_avg_temperature (float): temperature averaged over the whole volume \n",
    "    \n",
    "    \"\"\"\n",
    "    \n",
    "    \n",
    "    vol_avg_temperature = (np.sum(np.multiply(temperatures,(np.multiply(densities,volumes))))/(np.sum(np.multiply(densities,volumes))))\n",
    "    type(vol_avg_temperature)\n",
    "    \n",
    "    return vol_avg_temperature"
   ]
  },
  {
   "cell_type": "code",
   "execution_count": 7,
   "id": "c3069ff1",
   "metadata": {},
   "outputs": [],
   "source": [
    "def generate_volumes(rho, a, R):\n",
    "    '''This function creates an array of volume elements of equal temperature and density\n",
    "    \n",
    "    args\n",
    "    ------\n",
    "    rho (array-like): array of radii \n",
    "    a (float): minor radius of torus\n",
    "    R (float): major radius of torus \n",
    "    \n",
    "    return\n",
    "    -------\n",
    "    volumes (array-like): array of volume elements \n",
    "    \n",
    "    '''\n",
    "    drho = 1/len(rho) #the change in rho is the amount of lengths (1/100th in this case)\n",
    "    \n",
    "    \n",
    "    #initialzing\n",
    "    total_area = 0 \n",
    "    \n",
    "    volumes = []\n",
    "    \n",
    "    for i in rho: #indexing elements of array rho\n",
    "        ring_area = (a**2) * i * drho * 2*math.pi \n",
    "        ring_volume = ring_area *2*math.pi * R\n",
    "        volumes.append(ring_volume)\n",
    "        \n",
    "    return volumes"
   ]
  },
  {
   "cell_type": "code",
   "execution_count": 8,
   "id": "3589842d",
   "metadata": {},
   "outputs": [],
   "source": [
    "def compute_highfidelityFR(n0, alpha_n, T0, alpha_T, a, R):\n",
    "    '''This function computes the high-fidelity fusion rate \n",
    "    \n",
    "    args\n",
    "    ------\n",
    "    - n0: initial density, estimate around 10**20 (float) \n",
    "    - alpha_n: exponential (array-like)\n",
    "    - T0: initial temperature, estimate around 10 Kev (array-like)\n",
    "    - alpha_T: exponential (array-like)\n",
    "    - a: torus minor radius (float)\n",
    "    - R: torus major radius (float)\n",
    "    \n",
    "    returns\n",
    "    --------\n",
    "    - highfidelityFR: high-fidelity fusion rate (float)\n",
    "    \n",
    "    '''\n",
    "    \n",
    "    \n",
    "    rho = np.linspace(0,1,num=100)\n",
    "\n",
    "    densities = generate_profile(rho,n0,alpha_n)\n",
    "    \n",
    "    temperatures = generate_profile(rho,T0,alpha_T)\n",
    "        \n",
    "    volumes = generate_volumes(rho,a,R)\n",
    "    \n",
    "    dt = Reaction('D+T')\n",
    "    rate_coeff = dt.rate_coefficient(temperatures, scheme = 'analytic')\n",
    "\n",
    "    \n",
    "    sectionalHFFR = (np.multiply(rate_coeff,np.multiply(densities,densities))) \n",
    "    \n",
    "    \n",
    "    highfidelityFR=sum(np.multiply(sectionalHFFR,volumes))\n",
    "    \n",
    "\n",
    "    return highfidelityFR\n"
   ]
  },
  {
   "cell_type": "code",
   "execution_count": 9,
   "id": "2fed97e8",
   "metadata": {},
   "outputs": [
    {
     "data": {
      "text/plain": [
       "2.0934780824985033e+25"
      ]
     },
     "execution_count": 9,
     "metadata": {},
     "output_type": "execute_result"
    }
   ],
   "source": [
    "compute_highfidelityFR(10**20, 2, 10, 2, 1, 10)"
   ]
  },
  {
   "cell_type": "code",
   "execution_count": 10,
   "id": "412f6823",
   "metadata": {},
   "outputs": [],
   "source": [
    "def compute_highfidelityFR_deriv(n0, alpha_n, T0, alpha_T, a, R):\n",
    "    '''This function computes the derivative of the high-fidelity fusion rate with respect to temperature\n",
    "    \n",
    "    args\n",
    "    ------\n",
    "    -n0: initial density, estimate around 10**20 (float) \n",
    "    - alpha_n: exponential (array-like)\n",
    "    - T0: initial temperature, estimate around 10 Kev (array-like)\n",
    "    - alpha_T: exponential (array-like)\n",
    "    - a: torus minor radius (float)\n",
    "    - R: torus major radius (float)\n",
    "    \n",
    "    returns\n",
    "    --------\n",
    "    - highfidelityFR_deriv: derivative of high fidelity fusion rate (float)\n",
    "\n",
    "    '''\n",
    "    \n",
    "    \n",
    "    rho = np.linspace(0,1,num=100)\n",
    "\n",
    "    densities = generate_profile(rho,n0,alpha_n)\n",
    "    \n",
    "    temperatures = generate_profile(rho,T0,alpha_T)\n",
    "    \n",
    "    volumes = generate_volumes(rho,a,R)\n",
    "    \n",
    "    dt = Reaction(\"D+T\")\n",
    "    rate_coeff_deriv = dt.rate_coefficient(temperatures, scheme ='analytic',derivatives=True)\n",
    "    \n",
    "    sectionalHFFR_deriv = (np.multiply(rate_coeff_deriv,np.multiply(densities,densities)))\n",
    "    \n",
    "    highfidelityFR_deriv=sum(np.multiply(sectionalHFFR_deriv,volumes))\n",
    "    \n",
    "    \n",
    "    return highfidelityFR_deriv"
   ]
  },
  {
   "cell_type": "code",
   "execution_count": 11,
   "id": "75f6dfec",
   "metadata": {},
   "outputs": [
    {
     "data": {
      "text/plain": [
       "7.27676445988046e+24"
      ]
     },
     "execution_count": 11,
     "metadata": {},
     "output_type": "execute_result"
    }
   ],
   "source": [
    "compute_highfidelityFR_deriv(10**20, 2, 10, 2, 1, 10)"
   ]
  },
  {
   "cell_type": "code",
   "execution_count": 12,
   "id": "635b5a1f",
   "metadata": {},
   "outputs": [],
   "source": [
    "def generate_lowfidelityFR(n0, alpha_n, log_T0, alpha_T, a, R):\n",
    "    '''This function generates parameters necessary for computation of the low-fidelity FR model\n",
    "   \n",
    "   args\n",
    "    ------\n",
    "    -n0: initial density, estimate around 10**20 (float) \n",
    "    - alpha_n: exponential (array-like)\n",
    "    - log_T0: initial temperature, estimate around 10 Kev (array-like) in logspace\n",
    "    - alpha_T: exponential (array-like)\n",
    "    - a: torus minor radius (float)\n",
    "    - R: torus major radius (float)\n",
    "    \n",
    "    returns\n",
    "    --------\n",
    "    - c: compute best guess from formula (float)\n",
    "    - B: best guess around 2 (float)\n",
    "    '''\n",
    "    rho = np.linspace(0,1,num=100)\n",
    "    \n",
    "    T0=np.exp(log_T0)#change T0 into linear space \n",
    "    \n",
    "    highfidelityFR = compute_highfidelityFR(n0, alpha_n, T0, alpha_T, a, R)\n",
    "    highfidelityFR_deriv = compute_highfidelityFR_deriv(n0, alpha_n, T0, alpha_T, a, R)\n",
    "    \n",
    "    densities = generate_profile(rho,n0,alpha_n)\n",
    "    temperatures = generate_profile(rho,T0,alpha_T)\n",
    "    volumes = generate_volumes(rho,a,R)\n",
    "    \n",
    "    total_volume = sum(volumes)\n",
    "    \n",
    "    vol_avg_density = volume_averaged_density(densities, volumes)\n",
    "    vol_avg_temperature = volume_averaged_temperature(densities, volumes, temperatures)\n",
    "    \n",
    "    def f1(c,B):\n",
    "        return total_volume * c * vol_avg_density**2 *vol_avg_temperature**B - highfidelityFR / C_SCALE\n",
    "    \n",
    "    def f2(c,B):\n",
    "        return total_volume * c * vol_avg_density**2 * B * vol_avg_temperature**(B-1) - highfidelityFR_deriv / C_SCALE\n",
    "    \n",
    "    def f(c,B):\n",
    "        return f1(c,B), f2(c,B)\n",
    "    \n",
    "    def wrapper_of_f_for_fsolve(x):\n",
    "        return np.array(f(*x))\n",
    "    \n",
    "    c_sol = scipy.optimize.fsolve(wrapper_of_f_for_fsolve, [1,2], xtol=1e-2)\n",
    "    fofcsol = f(*c_sol)\n",
    "    \n",
    "   \n",
    "    return c_sol\n"
   ]
  },
  {
   "cell_type": "code",
   "execution_count": 13,
   "id": "cd91df65",
   "metadata": {},
   "outputs": [
    {
     "name": "stderr",
     "output_type": "stream",
     "text": [
      "/Library/Frameworks/Python.framework/Versions/3.11/lib/python3.11/site-packages/scipy/optimize/_minpack_py.py:178: RuntimeWarning: The iteration is not making good progress, as measured by the \n",
      "  improvement from the last ten iterations.\n",
      "  warnings.warn(msg, RuntimeWarning)\n"
     ]
    }
   ],
   "source": [
    "c_sol = generate_lowfidelityFR(10**20, 2, 10, 2, 1, 10)\n",
    "\n",
    "c = c_sol[0]\n",
    "B = c_sol[1]\n"
   ]
  },
  {
   "cell_type": "code",
   "execution_count": 14,
   "id": "6ebb80bf",
   "metadata": {},
   "outputs": [],
   "source": [
    "def compute_lowfidelityFR(n0, alpha_n, T0, alpha_T, a, R, c, B):\n",
    "    \"\"\"This function computes the low-fidelity fusion rate\n",
    "    \n",
    "    args\n",
    "    ------\n",
    "    -n0: initial density, estimate around 10**20 (float) \n",
    "    - alpha_n: exponential (array-like)\n",
    "    - T0: initial temperature, estimate around 10 Kev (array-like)\n",
    "    - alpha_T: exponential (array-like)\n",
    "    - a: torus minor radius (float)\n",
    "    - R: torus major radius (float)\n",
    "    - c: (float)\n",
    "    - B: (float)\n",
    "    \n",
    "    returns\n",
    "    --------\n",
    "    - lowfidelityFR: low-fidelity fusion rate (float)\n",
    "    \n",
    "    \"\"\"\n",
    "    rho = np.linspace(0,1,num=100)\n",
    "    \n",
    "   \n",
    "    \n",
    "    densities = generate_profile(rho,n0,alpha_n)\n",
    "    temperatures = generate_profile(rho,T0,alpha_T)\n",
    "    volumes = generate_volumes(rho,a,R)\n",
    "    \n",
    "    total_volume = sum(volumes)\n",
    "    \n",
    "    vol_avg_density = volume_averaged_density(densities, volumes)\n",
    "    vol_avg_temperature = volume_averaged_temperature(densities, volumes, temperatures)\n",
    "    \n",
    "    \n",
    "    lowfidelityFR = total_volume * C_SCALE * c * vol_avg_density**2 *vol_avg_temperature**B\n",
    "    \n",
    "    return lowfidelityFR\n",
    "    \n",
    "    "
   ]
  },
  {
   "cell_type": "code",
   "execution_count": 15,
   "id": "23cef5e7",
   "metadata": {},
   "outputs": [
    {
     "data": {
      "text/plain": [
       "1.5415684522375593e+22"
      ]
     },
     "execution_count": 15,
     "metadata": {},
     "output_type": "execute_result"
    }
   ],
   "source": [
    "compute_lowfidelityFR(10**20, 2, 10, 2, 1, 10, c= c_sol[0], B= c_sol[1])"
   ]
  },
  {
   "cell_type": "code",
   "execution_count": 16,
   "id": "9a23f5c1",
   "metadata": {},
   "outputs": [],
   "source": [
    "def compute_lowfidelityFR_deriv(n0, alpha_n, T0, alpha_T, a, R, c, B):\n",
    "    \"\"\"This function computes the derivative of the high-fidelity fusion rate with respect to temperature\n",
    "    \n",
    "     args\n",
    "    ------\n",
    "    -n0: initial density, estimate around 10**20 (float) \n",
    "    - alpha_n: exponential (int)\n",
    "    - T0: initial temperature, estimate around 10 Kev (float)\n",
    "    - alpha_T: exponential (int)\n",
    "    - a: torus minor radius (float)\n",
    "    - R: torus major radius (float)\n",
    "    - c: (float)\n",
    "    - B: (float)\n",
    "    \n",
    "    returns\n",
    "    ---------\n",
    "    -lowfidelityFR_deriv: derivative of low-fidelity fusion rate (float)\n",
    "    \n",
    "    \"\"\"\n",
    "    rho = np.linspace(0,1,num=100)\n",
    "    \n",
    "    \n",
    "    \n",
    "    densities = generate_profile(rho,n0,alpha_n)\n",
    "    temperatures = generate_profile(rho,T0,alpha_T)\n",
    "    volumes = generate_volumes(rho,a,R)\n",
    "    \n",
    "    total_volume = sum(volumes)\n",
    "    \n",
    "    vol_avg_density = volume_averaged_density(densities, volumes)\n",
    "    vol_avg_temperature = volume_averaged_temperature(densities, volumes, temperatures)\n",
    "    \n",
    "\n",
    "    \n",
    "    lowfidelityFR_deriv = total_volume * C_SCALE * c * vol_avg_density**2 * B * vol_avg_temperature**(B-1)\n",
    "    \n",
    "    return lowfidelityFR_deriv\n",
    "    \n",
    "    \n",
    "    "
   ]
  },
  {
   "cell_type": "code",
   "execution_count": 17,
   "id": "c3350a3f",
   "metadata": {
    "scrolled": false
   },
   "outputs": [
    {
     "data": {
      "text/plain": [
       "-1.1752444044023811e+21"
      ]
     },
     "execution_count": 17,
     "metadata": {},
     "output_type": "execute_result"
    }
   ],
   "source": [
    "compute_lowfidelityFR_deriv(10**20, 2, 10, 2, 1, 10, c=c_sol[0], B=c_sol[1])"
   ]
  },
  {
   "cell_type": "markdown",
   "id": "72d384b7",
   "metadata": {},
   "source": [
    "Create initial set of points to train low-fidelity models with initial range of about 50 points\n",
    "Choose interesting input ranges\n",
    "alpha_n (1,5)\n",
    "alpha_T (1,5)\n",
    "T0 (1,100)\n",
    "\n",
    "Start by picking points at random, can develop more sophisticated Sobol Sequence or something \n",
    "\n",
    "Questions \n",
    "- now we must pass list of points through my function instead of individual integers\n",
    "- should n0, a, R have a range or is that constant? "
   ]
  },
  {
   "cell_type": "code",
   "execution_count": 18,
   "id": "2f68f84a",
   "metadata": {},
   "outputs": [
    {
     "name": "stdout",
     "output_type": "stream",
     "text": [
      "[[4.35732751 2.05324875 1.36937708]\n",
      " [2.35732751 4.71991541 0.44834305]\n",
      " [3.35732751 3.38658208 4.1324792 ]]\n"
     ]
    }
   ],
   "source": [
    "def generate_halton_sequence(n, ranges):\n",
    "    \"\"\"\n",
    "    This function generates the training points for data over interesting ranges\n",
    "    \n",
    "    Arguments:\n",
    "    - n: The number of points to generate.\n",
    "    - ranges: A list of tuples specifying the range for each dimension.\n",
    "    \n",
    "    Returns:\n",
    "    A list of tuples representing the generated points in the Halton sequence.\n",
    "    \"\"\"\n",
    "    num_dimensions = len(ranges)\n",
    "    low = np.array([min_value for min_value, _ in ranges])\n",
    "    high = np.array([max_value for _, max_value in ranges])\n",
    "    halton = qmc.Halton(num_dimensions)\n",
    "    scaled_points = halton.random(n)\n",
    "    scaled_points = low + scaled_points * (high - low)\n",
    "    sequence = [tuple(point) for point in scaled_points]\n",
    "    \n",
    "    return sequence\n",
    "\n",
    "n = 3 #number of training points \n",
    "ranges = [(1,5), (1,5), (np.log(1),np.log(100))] #ranges for alpha_n, alpha_T, and T0 in log space\n",
    "sequence = generate_halton_sequence(n, ranges) #generating training data \n",
    "\n",
    "#changing sequence to an array \n",
    "sequence = np.array(sequence)\n",
    "\n",
    "\n",
    "print(sequence)   "
   ]
  },
  {
   "cell_type": "code",
   "execution_count": 19,
   "id": "91d14c6c",
   "metadata": {
    "scrolled": true
   },
   "outputs": [
    {
     "name": "stdout",
     "output_type": "stream",
     "text": [
      "[2.89323494e-03 9.90029980e-04 3.92055439e+00]\n",
      "[3.29176384 2.69201636 0.44359522]\n"
     ]
    }
   ],
   "source": [
    "#Gaussian Process Regressor \n",
    "\n",
    "\n",
    "\n",
    "for row in sequence:\n",
    "    alpha_n, alpha_T, log_T0 = row\n",
    "    \n",
    "#x is a 3D array (points_alpha_T, points_alpha_n, points_t0)\n",
    "X =  sequence #Not sure what the correct method of passing all these points in is\n",
    "\n",
    "\n",
    "#y is a 2D array, C and B, outputs of generate low_fidelity function for input training points \n",
    "y = [generate_lowfidelityFR(10**20, row[0], row[2], row[1], 1, 10) for row in sequence]\n",
    "\n",
    "# y1 is c values and y2 is B values    \n",
    "y1,y2 = np.array(y).T\n",
    "\n",
    "print(y1)\n",
    "\n",
    "print(y2)"
   ]
  },
  {
   "cell_type": "code",
   "execution_count": 20,
   "id": "9c3b7d73",
   "metadata": {},
   "outputs": [],
   "source": [
    "#Gaussian process model for y1 (c)\n",
    "\n",
    "#defining the kernel \n",
    "kernelc = ConstantKernel(constant_value=1.0,constant_value_bounds=(1e-2,1e2)) * RBF(length_scale=1, length_scale_bounds=(1e-2,20))   \n",
    "    \n",
    "#create a GPR model - use default kernel - not sure about n_restarts\n",
    "gprc = GaussianProcessRegressor(kernel=kernelc, n_restarts_optimizer=9)\n",
    "\n",
    "#fit model to data\n",
    "gprc.fit(X, np.log(y1))\n",
    "\n",
    "#generate points in inputspace to predict \n",
    "x_pred = np.linspace(0,5,100)\n",
    "\n",
    "#predict function values for input points & standard deviation \n",
    "y1_pred, y1_std = gprc.predict(sequence, return_std = True)"
   ]
  },
  {
   "cell_type": "code",
   "execution_count": 21,
   "id": "eddc9f06",
   "metadata": {
    "scrolled": true
   },
   "outputs": [
    {
     "name": "stdout",
     "output_type": "stream",
     "text": [
      "[-5.84538005 -6.91777533  1.36623307] [9.99991160e-06 9.99991160e-06 1.00000892e-05]\n"
     ]
    }
   ],
   "source": [
    "#(np.exp(y1_std) * C_SCALE)\n",
    "print(y1_pred,y1_std)"
   ]
  },
  {
   "cell_type": "code",
   "execution_count": 22,
   "id": "35f19361",
   "metadata": {},
   "outputs": [],
   "source": [
    "#Gaussian process model for y2 (B)\n",
    "\n",
    "kernelB = ConstantKernel(constant_value=1.0,constant_value_bounds=(.1,10)) * RBF(length_scale=0.5, length_scale_bounds=(0.1,20))   \n",
    "    \n",
    "#create a GPR model - use default kernel - not sure about n_restarts\n",
    "gprB = GaussianProcessRegressor(kernel=kernelB, n_restarts_optimizer=9)\n",
    "\n",
    "#fit model to data\n",
    "gprB.fit(X,y2)\n",
    "\n",
    "#generate points in inputspace to predict \n",
    "x_pred = np.linspace(0,5,100)\n",
    "\n",
    "#predict function values for input points & standard deviation \n",
    "y2_pred, y2_std = gprB.predict(sequence, return_std = True)"
   ]
  },
  {
   "cell_type": "code",
   "execution_count": 23,
   "id": "896696c1",
   "metadata": {},
   "outputs": [
    {
     "name": "stdout",
     "output_type": "stream",
     "text": [
      "[3.29176384 2.69201636 0.44359522] [9.99991160e-06 1.00000004e-05 1.00000004e-05]\n"
     ]
    }
   ],
   "source": [
    "print(y2_pred,y2_std)"
   ]
  },
  {
   "cell_type": "code",
   "execution_count": 24,
   "id": "50e48346",
   "metadata": {},
   "outputs": [],
   "source": [
    "n_grid = 200 #sets number of points in each grid to 200\n",
    "\n",
    "alpha_n_test = np.linspace(1,5, num =n_grid) #200 points between 1 and 5\n",
    "alpha_T_test = np.linspace(1,5,num =n_grid) #200 points between 1 and 5 \n",
    "#lower = np.log(1)\n",
    "#upper = np.log(100)\n",
    "T0_test=np.geomspace(1,100,num =n_grid) #logarithmically spaced values \n",
    "#T0_test=np.linspace(math.log(1),math.log(100),num =n_grid)\n",
    "\n",
    "alpha_T_grid, T0_grid = np.meshgrid(alpha_T_test, T0_test) #creates a grid of points from alpha_T_test and T0 test\n",
    "alpha_n_grid = np.ones_like(alpha_T_grid)*2.0 #array filled with 2s\n"
   ]
  },
  {
   "cell_type": "code",
   "execution_count": 25,
   "id": "125b8d0e",
   "metadata": {},
   "outputs": [],
   "source": [
    "#y1_std = np.exp(y1_std)\n",
    "#y2_std = np.exp(y2_std)"
   ]
  },
  {
   "cell_type": "code",
   "execution_count": 26,
   "id": "b145eb6c",
   "metadata": {},
   "outputs": [],
   "source": [
    "#T0_grid= np.exp(T0_grid)"
   ]
  },
  {
   "cell_type": "code",
   "execution_count": 27,
   "id": "336f3993",
   "metadata": {},
   "outputs": [
    {
     "name": "stdout",
     "output_type": "stream",
     "text": [
      "[[  1.           1.           1.         ...   1.           1.\n",
      "    1.        ]\n",
      " [  1.0234114    1.0234114    1.0234114  ...   1.0234114    1.0234114\n",
      "    1.0234114 ]\n",
      " [  1.0473709    1.0473709    1.0473709  ...   1.0473709    1.0473709\n",
      "    1.0473709 ]\n",
      " ...\n",
      " [ 95.47716114  95.47716114  95.47716114 ...  95.47716114  95.47716114\n",
      "   95.47716114]\n",
      " [ 97.71241535  97.71241535  97.71241535 ...  97.71241535  97.71241535\n",
      "   97.71241535]\n",
      " [100.         100.         100.         ... 100.         100.\n",
      "  100.        ]]\n"
     ]
    }
   ],
   "source": [
    "print(T0_grid)"
   ]
  },
  {
   "cell_type": "code",
   "execution_count": 28,
   "id": "9e867c3a",
   "metadata": {},
   "outputs": [],
   "source": [
    "#reshapes 3 grids into an array \"test_points\"\n",
    "test_points = np.reshape(np.array([alpha_T_grid,alpha_n_grid, (np.log(T0_grid))]),(3,n_grid*n_grid)).T"
   ]
  },
  {
   "cell_type": "code",
   "execution_count": 29,
   "id": "881c9c61",
   "metadata": {},
   "outputs": [],
   "source": [
    "y1_pred, y1_std = gprc.predict(test_points, return_std = True)\n",
    "y1_pred = np.reshape(y1_pred,(n_grid,n_grid))\n",
    "y1_std = np.reshape(y1_std,(n_grid,n_grid))"
   ]
  },
  {
   "cell_type": "code",
   "execution_count": 30,
   "id": "aef28e65",
   "metadata": {},
   "outputs": [
    {
     "data": {
      "text/plain": [
       "Text(0, 0.5, 'c Prediction')"
      ]
     },
     "execution_count": 30,
     "metadata": {},
     "output_type": "execute_result"
    },
    {
     "data": {
      "image/png": "[encoded data removed]",
      "text/plain": [
       "<Figure size 640x480 with 2 Axes>"
      ]
     },
     "metadata": {},
     "output_type": "display_data"
    }
   ],
   "source": [
    "fig1, ax = plt.subplots()\n",
    "ax.set_yscale('log')\n",
    "plt.xlabel(r\"$\\alpha_T$\", size = 20)\n",
    "plt.ylabel(r\"$T_0$ / keV\", size = 20)\n",
    "CS = ax.contourf(alpha_T_grid, T0_grid, y1_pred)\n",
    "#ax.clabel(CS, inline= True, fontsize = 10)\n",
    "plt.axis([1,5,1,100])\n",
    "ax.set_title('Predicted Value ' + r'$\\log(c * 10^{16} \\; \\mathrm{m}^{-3}\\mathrm{s})$', size = 20)\n",
    "\n",
    "ax.tick_params(axis='both', which='major', labelsize=15)\n",
    "\n",
    "cbar = fig1.colorbar(CS)\n",
    "cbar.ax.set_ylabel('c Prediction', size = 20)"
   ]
  },
  {
   "cell_type": "code",
   "execution_count": 31,
   "id": "732a752f",
   "metadata": {
    "scrolled": true
   },
   "outputs": [
    {
     "data": {
      "text/plain": [
       "Text(0, 0.5, 'c STD')"
      ]
     },
     "execution_count": 31,
     "metadata": {},
     "output_type": "execute_result"
    },
    {
     "data": {
      "image/png": "[encoded data removed]",
      "text/plain": [
       "<Figure size 640x480 with 2 Axes>"
      ]
     },
     "metadata": {},
     "output_type": "display_data"
    }
   ],
   "source": [
    "fig2, ax = plt.subplots()\n",
    "ax.set_yscale('log')\n",
    "plt.xlabel(r\"$\\alpha_T$\", size = 20)\n",
    "plt.ylabel(r\"$T_0$ / keV\", size = 20)\n",
    "CS = ax.contourf(alpha_T_grid, T0_grid, y1_std)\n",
    "\n",
    "#ax.clabel(CS, inline= True, fontsize = 8)\n",
    "plt.axis([1,5,1,100])\n",
    "ax.set_title('Standard Deviation ' + r'$\\log(c * 10^{16} \\; \\mathrm{m}^{-3}\\mathrm{s})$', size = 18)\n",
    "\n",
    "ax.tick_params(axis='both', which='major', labelsize=15)\n",
    "\n",
    "cbar = fig2.colorbar(CS)\n",
    "cbar.ax.set_ylabel('c STD', size = 20)"
   ]
  },
  {
   "cell_type": "code",
   "execution_count": 32,
   "id": "0ff6bd3e",
   "metadata": {},
   "outputs": [],
   "source": [
    "y2_pred, y2_std = gprB.predict(test_points, return_std = True)\n",
    "y2_pred = np.reshape(y2_pred,(n_grid,n_grid))\n",
    "y2_std = np.reshape(y2_std,(n_grid,n_grid))"
   ]
  },
  {
   "cell_type": "code",
   "execution_count": 33,
   "id": "0d97177f",
   "metadata": {
    "scrolled": true
   },
   "outputs": [
    {
     "data": {
      "text/plain": [
       "Text(0, 0.5, '$\\\\beta%$ Prediction')"
      ]
     },
     "execution_count": 33,
     "metadata": {},
     "output_type": "execute_result"
    },
    {
     "data": {
      "image/png": "[encoded data removed]",
      "text/plain": [
       "<Figure size 640x480 with 2 Axes>"
      ]
     },
     "metadata": {},
     "output_type": "display_data"
    }
   ],
   "source": [
    "fig3, ax = plt.subplots()\n",
    "ax.set_yscale('log')\n",
    "plt.xlabel(r\"$\\alpha_T$\", size = 20)\n",
    "plt.ylabel(r\"$T_0$ / keV\", size = 20)\n",
    "CS = ax.contourf(alpha_T_grid, T0_grid, y2_pred)\n",
    "#ax.clabel(CS, inline= True, fontsize = 10)\n",
    "plt.axis([1,5,1,100])\n",
    "ax.set_title('Predicted Value of ' + r'$\\beta%$', size = 20)\n",
    "\n",
    "ax.tick_params(axis='both', which='major', labelsize=15)\n",
    "\n",
    "cbar = fig3.colorbar(CS)\n",
    "cbar.ax.set_ylabel(r'$\\beta%$'+' Prediction', size = 20)\n"
   ]
  },
  {
   "cell_type": "code",
   "execution_count": 34,
   "id": "ef324d1d",
   "metadata": {
    "scrolled": true
   },
   "outputs": [
    {
     "data": {
      "text/plain": [
       "Text(0, 0.5, '$\\\\beta%$ STD')"
      ]
     },
     "execution_count": 34,
     "metadata": {},
     "output_type": "execute_result"
    },
    {
     "data": {
      "image/png": "[encoded data removed]",
      "text/plain": [
       "<Figure size 640x480 with 2 Axes>"
      ]
     },
     "metadata": {},
     "output_type": "display_data"
    }
   ],
   "source": [
    "fig4, ax = plt.subplots()\n",
    "ax.set_yscale('log')\n",
    "plt.xlabel(r\"$\\alpha_T$\", size = 20)\n",
    "plt.ylabel(r\"$T_0$ / keV\", size = 20)\n",
    "CS = ax.contourf(alpha_T_grid, T0_grid, y2_std)\n",
    "#ax.clabel(CS, inline= True, fontsize = 10)\n",
    "plt.axis([1,5,1,100])\n",
    "ax.set_title('Standard Deviation '+r'$\\beta%$', size = 20)\n",
    "\n",
    "ax.tick_params(axis='both', which='major', labelsize=15)\n",
    "\n",
    "cbar = fig4.colorbar(CS)\n",
    "cbar.ax.set_ylabel(r'$\\beta%$'+ ' STD', size = 20)"
   ]
  },
  {
   "cell_type": "code",
   "execution_count": null,
   "id": "c15d84a5",
   "metadata": {},
   "outputs": [],
   "source": []
  },
  {
   "cell_type": "code",
   "execution_count": null,
   "id": "26dcbf99",
   "metadata": {},
   "outputs": [],
   "source": []
  },
  {
   "cell_type": "code",
   "execution_count": null,
   "id": "af5343b8",
   "metadata": {},
   "outputs": [],
   "source": []
  }
 ],
 "metadata": {
  "kernelspec": {
   "display_name": "Python 3 (ipykernel)",
   "language": "python",
   "name": "python3"
  },
  "language_info": {
   "codemirror_mode": {
    "name": "ipython",
    "version": 3
   },
   "file_extension": ".py",
   "mimetype": "text/x-python",
   "name": "python",
   "nbconvert_exporter": "python",
   "pygments_lexer": "ipython3",
   "version": "3.11.3"
  }
 },
 "nbformat": 4,
 "nbformat_minor": 5
}
